{
  "nbformat": 4,
  "nbformat_minor": 0,
  "metadata": {
    "colab": {
      "provenance": []
    },
    "kernelspec": {
      "name": "python3",
      "display_name": "Python 3"
    },
    "language_info": {
      "name": "python"
    }
  },
  "cells": [
    {
      "cell_type": "code",
      "execution_count": 2,
      "metadata": {
        "colab": {
          "base_uri": "https://localhost:8080/"
        },
        "id": "akx-jG0Pb7DD",
        "outputId": "16593169-a7e7-4623-b647-c4d7390c03dc"
      },
      "outputs": [
        {
          "output_type": "stream",
          "name": "stdout",
          "text": [
            "First 5 rows:\n",
            "     income       age  loan_amount  credit_score  years_employed  \\\n",
            "0 -1.030931  1.391626     0.547274      0.928932       -1.738880   \n",
            "1 -2.766254  1.247870    -0.303691      1.083145        0.710836   \n",
            "2 -0.558987  0.299849     1.527071      0.360442       -1.360209   \n",
            "3 -1.350289 -2.046078    -0.614264      0.126459       -0.783923   \n",
            "4 -0.275754 -0.728495     0.027727     -0.660834       -1.928161   \n",
            "\n",
            "   num_of_defaults  dependents  education_level  marital_status  \\\n",
            "0         1.250002    1.332551         1.578256        2.124722   \n",
            "1         1.968202   -1.794192         2.346422        1.700778   \n",
            "2         1.100793   -0.755951         1.331933        2.041105   \n",
            "3         5.895026   -0.915477        -3.184768       -0.399260   \n",
            "4         3.544945    1.446944        -1.111662        0.313766   \n",
            "\n",
            "   property_ownership  default  \n",
            "0           -0.318434        0  \n",
            "1           -0.001190        1  \n",
            "2           -0.824404        0  \n",
            "3           -3.920960        0  \n",
            "4           -2.376528        0  \n"
          ]
        }
      ],
      "source": [
        "# Loan Default Prediction Project\n",
        "\n",
        "# 1. Import Libraries\n",
        "import numpy as np\n",
        "import pandas as pd\n",
        "import matplotlib.pyplot as plt\n",
        "from sklearn.model_selection import train_test_split\n",
        "from sklearn.preprocessing import StandardScaler\n",
        "from sklearn.linear_model import LogisticRegression\n",
        "from sklearn.metrics import classification_report, confusion_matrix, accuracy_score\n",
        "import seaborn as sns\n",
        "\n",
        "# 2. Generate Synthetic Dataset\n",
        "from sklearn.datasets import make_classification\n",
        "\n",
        "X, y = make_classification(n_samples=1000,\n",
        "                           n_features=10,\n",
        "                           n_informative=6,\n",
        "                           n_redundant=2,\n",
        "                           n_classes=2,\n",
        "                           weights=[0.7, 0.3],\n",
        "                           random_state=42)\n",
        "\n",
        "columns = ['income', 'age', 'loan_amount', 'credit_score', 'years_employed',\n",
        "           'num_of_defaults', 'dependents', 'education_level',\n",
        "           'marital_status', 'property_ownership']\n",
        "data = pd.DataFrame(X, columns=columns)\n",
        "data['default'] = y\n",
        "\n",
        "# 3. Data Overview\n",
        "print(\"First 5 rows:\")\n",
        "print(data.head())"
      ]
    }
  ]
}